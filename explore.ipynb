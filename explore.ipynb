{
 "cells": [
  {
   "cell_type": "code",
   "execution_count": 49,
   "metadata": {},
   "outputs": [],
   "source": [
    "import configparser\n",
    "from garminconnect import Garmin"
   ]
  },
  {
   "cell_type": "code",
   "execution_count": 50,
   "metadata": {},
   "outputs": [],
   "source": [
    "config = configparser.ConfigParser()\n",
    "config.read('.config/config.ini')\n",
    "username = config['credentials']['email']\n",
    "password  = config['credentials']['password']"
   ]
  },
  {
   "cell_type": "code",
   "execution_count": 51,
   "metadata": {},
   "outputs": [],
   "source": [
    "api = Garmin(username, password)"
   ]
  },
  {
   "cell_type": "code",
   "execution_count": 52,
   "metadata": {},
   "outputs": [
    {
     "data": {
      "text/plain": [
       "True"
      ]
     },
     "execution_count": 52,
     "metadata": {},
     "output_type": "execute_result"
    }
   ],
   "source": [
    "api.login()"
   ]
  },
  {
   "cell_type": "code",
   "execution_count": 53,
   "metadata": {},
   "outputs": [
    {
     "data": {
      "text/plain": [
       "'Mutaz'"
      ]
     },
     "execution_count": 53,
     "metadata": {},
     "output_type": "execute_result"
    }
   ],
   "source": [
    "api.get_full_name()"
   ]
  },
  {
   "cell_type": "code",
   "execution_count": 54,
   "metadata": {},
   "outputs": [
    {
     "data": {
      "text/plain": [
       "'metric'"
      ]
     },
     "execution_count": 54,
     "metadata": {},
     "output_type": "execute_result"
    }
   ],
   "source": [
    "api.get_unit_system()"
   ]
  },
  {
   "cell_type": "code",
   "execution_count": 60,
   "metadata": {},
   "outputs": [
    {
     "name": "stdout",
     "output_type": "stream",
     "text": [
      "Index Smart Scale\n"
     ]
    }
   ],
   "source": [
    "devices = api.get_devices()\n",
    "\n",
    "for d in devices: \n",
    "    print(d['productDisplayName'])"
   ]
  },
  {
   "cell_type": "code",
   "execution_count": 33,
   "metadata": {},
   "outputs": [
    {
     "data": {
      "text/plain": [
       "[('userProfileId', 76963454),\n",
       " ('displayName', 'be371033-5cdf-4f32-87b2-4f4bba6d96b2'),\n",
       " ('netRemainingKilocalories', 0.0),\n",
       " ('calendarDate', '2022-01-19'),\n",
       " ('includesWellnessData', False),\n",
       " ('includesActivityData', False),\n",
       " ('includesCalorieConsumedData', False),\n",
       " ('privacyProtected', False),\n",
       " ('source', 'GARMIN')]"
      ]
     },
     "execution_count": 33,
     "metadata": {},
     "output_type": "execute_result"
    }
   ],
   "source": [
    "import datetime\n",
    "today = datetime.date.today()\n",
    "day1 = datetime.date(2022,1,7)\n",
    "\n",
    "statsdict = api.get_stats(today.isoformat())\n",
    "\n",
    "[(k, v) for (k,v) in statsdict.items() if v is not None]"
   ]
  },
  {
   "cell_type": "code",
   "execution_count": 39,
   "metadata": {},
   "outputs": [
    {
     "name": "stdout",
     "output_type": "stream",
     "text": [
      "[('userProfileId', 76963454), ('displayName', 'be371033-5cdf-4f32-87b2-4f4bba6d96b2'), ('netRemainingKilocalories', 0.0), ('calendarDate', '2022-01-19'), ('includesWellnessData', False), ('includesActivityData', False), ('includesCalorieConsumedData', False), ('privacyProtected', False), ('source', 'GARMIN'), ('from', 1642550400000), ('until', 1642636799999), ('weight', 99900.0)]\n",
      "99.9 kg\n"
     ]
    }
   ],
   "source": [
    "statsandbody = api.get_stats_and_body(today.isoformat())\n",
    "\n",
    "\n",
    "print([(k, v) for (k,v) in statsandbody.items() if v is not None])\n",
    "\n",
    "print(statsandbody['weight']/1000, 'kg')"
   ]
  },
  {
   "cell_type": "code",
   "execution_count": 30,
   "metadata": {},
   "outputs": [
    {
     "data": {
      "text/plain": [
       "[('userProfileId', 76963454),\n",
       " ('displayName', 'be371033-5cdf-4f32-87b2-4f4bba6d96b2'),\n",
       " ('netRemainingKilocalories', 0.0),\n",
       " ('calendarDate', '2022-01-07'),\n",
       " ('includesWellnessData', False),\n",
       " ('includesActivityData', False),\n",
       " ('includesCalorieConsumedData', False),\n",
       " ('privacyProtected', False),\n",
       " ('source', 'GARMIN')]"
      ]
     },
     "execution_count": 30,
     "metadata": {},
     "output_type": "execute_result"
    }
   ],
   "source": []
  },
  {
   "cell_type": "code",
   "execution_count": 19,
   "metadata": {},
   "outputs": [
    {
     "data": {
      "text/plain": [
       "<zip at 0x25e078c8540>"
      ]
     },
     "execution_count": 19,
     "metadata": {},
     "output_type": "execute_result"
    }
   ],
   "source": []
  },
  {
   "cell_type": "code",
   "execution_count": null,
   "metadata": {},
   "outputs": [],
   "source": []
  }
 ],
 "metadata": {
  "interpreter": {
   "hash": "312ec3321ab1925395b3f64c7405bf355d133452256820523cf69a5c0d871192"
  },
  "kernelspec": {
   "display_name": "Python 3.8.12 64-bit ('garminconnect_env': conda)",
   "language": "python",
   "name": "python3"
  },
  "language_info": {
   "codemirror_mode": {
    "name": "ipython",
    "version": 3
   },
   "file_extension": ".py",
   "mimetype": "text/x-python",
   "name": "python",
   "nbconvert_exporter": "python",
   "pygments_lexer": "ipython3",
   "version": "3.8.12"
  },
  "orig_nbformat": 4
 },
 "nbformat": 4,
 "nbformat_minor": 2
}
